{
 "cells": [
  {
   "cell_type": "markdown",
   "id": "25a7527f-d22a-459c-9c2d-32f977d01e18",
   "metadata": {},
   "source": [
    "###Given an integer, n, perform the following conditional actions:\n",
    "• If n is odd, print Weird\n",
    "• If n is even and in the inclusive range of 2 to 5. print Not Weird\n",
    "• If n is even and in the inclusive range of 6 to 20. print Weird\n",
    "• If n is even and greater than 20. print Not Weird"
   ]
  },
  {
   "cell_type": "code",
   "execution_count": 3,
   "id": "e2f33b13-1794-4d31-b180-7806b3a63fd3",
   "metadata": {},
   "outputs": [
    {
     "name": "stdin",
     "output_type": "stream",
     "text": [
      " 3\n"
     ]
    },
    {
     "name": "stdout",
     "output_type": "stream",
     "text": [
      "Weird\n"
     ]
    }
   ],
   "source": [
    "n = int(input().strip())\n",
    "if n%2 !=0:\n",
    "    print(\"Weird\")\n",
    "else:\n",
    "    if 2<=n <=5:\n",
    "        print(\"Not Weird\")\n",
    "    elif 6<=n <=20:\n",
    "        print(\"Weird\")\n",
    "    else:\n",
    "        print(\"Not Weird\")"
   ]
  },
  {
   "cell_type": "markdown",
   "id": "0e461391-cfc7-4a3c-b747-512a8f89dc0a",
   "metadata": {},
   "source": [
    "###The provided code stub reads two integers from STDIN, a and b. Add code to print three lines where:\n",
    "1. The first line contains the sum of the two numbers.\n",
    "2. The second line contains the difference of the two numbers (first-\n",
    "second).\n",
    "3. The third line contains the product of the two numbers.\n",
    "Example\n",
    "a = 3\n",
    "b= 5"
   ]
  },
  {
   "cell_type": "code",
   "execution_count": 7,
   "id": "5c305c7b-fd0c-4841-984b-34fa643b446c",
   "metadata": {},
   "outputs": [
    {
     "name": "stdin",
     "output_type": "stream",
     "text": [
      " 3\n",
      " 2\n"
     ]
    },
    {
     "name": "stdout",
     "output_type": "stream",
     "text": [
      "The sum of 3+2 is: 5\n",
      "The differnce of 3-2 is: 1\n",
      "The product of 3*2 is: 6\n"
     ]
    }
   ],
   "source": [
    "a=int(input().strip())\n",
    "b=int(input().strip())\n",
    "sum= a+b\n",
    "sub= a-b\n",
    "prod= a*b\n",
    "print(\"The sum of 3+2 is:\",sum)\n",
    "print(\"The differnce of 3-2 is:\",sub)\n",
    "print(\"The product of 3*2 is:\",prod)"
   ]
  },
  {
   "cell_type": "markdown",
   "id": "6ee23f5d-9ffd-448c-bb8a-954b2d60d386",
   "metadata": {},
   "source": [
    "###The provided code stub reads two integers, a and b, from STDIN.\n",
    "Add logic to print two lines. The first line should contain the result of integer division, a // b. The second line should contain the result of float division, a/\n",
    "b.\n",
    "No rounding or formatting is necessary."
   ]
  },
  {
   "cell_type": "code",
   "execution_count": 8,
   "id": "a5286aa5-63a3-457d-8a0b-0a072b0dca19",
   "metadata": {},
   "outputs": [
    {
     "name": "stdin",
     "output_type": "stream",
     "text": [
      " 4\n",
      " 3\n"
     ]
    },
    {
     "name": "stdout",
     "output_type": "stream",
     "text": [
      "1\n",
      "1.3333333333333333\n"
     ]
    }
   ],
   "source": [
    "a = int(input())\n",
    "b = int(input())\n",
    "division=a//b\n",
    "div_float=a/b\n",
    "print(division)\n",
    "print(div_float)"
   ]
  },
  {
   "cell_type": "markdown",
   "id": "d2f508f1-6e89-47ec-af7b-c4f8833f4892",
   "metadata": {},
   "source": [
    "﻿###The provided code stub reads and integer, n, from STDIN. For all non-\n",
    "negative integers i < n. print i2.\n",
    "Example\n",
    "n = 3\n",
    "The list of non-negative integers that are less than n = 3 is [0, 1, 2]. Print the\n",
    "square of each number on a separate line."
   ]
  },
  {
   "cell_type": "code",
   "execution_count": 9,
   "id": "13463451-774e-43d0-9308-e3115e48c3d4",
   "metadata": {},
   "outputs": [
    {
     "name": "stdin",
     "output_type": "stream",
     "text": [
      " 5\n"
     ]
    },
    {
     "name": "stdout",
     "output_type": "stream",
     "text": [
      "0\n",
      "1\n",
      "4\n",
      "9\n",
      "16\n"
     ]
    }
   ],
   "source": [
    "n = int(input().strip())\n",
    "# Loop through all non-negative integers less than n\n",
    "for i in range(n):\n",
    "    print(i ** 2)"
   ]
  },
  {
   "cell_type": "markdown",
   "id": "1115416c-360a-4b97-b374-1a17e817543d",
   "metadata": {},
   "source": [
    "﻿###An extra day is added to the calendar almost every four years as February 29, and the day is called a leap day. It corrects the calendar for the fact that our planet takes approximately 365.25 days to orbit the sun. A leap year contains a leap day.\n",
    "In the Gregorian calendar, three conditions are used to identify leap years: • The year can be evenly divided by 4, is a leap year, unless:\n",
    "• The year can be evenly divided by 100, it is NOT a leap year, unless: ■The year is also evenly divisible by 400. Then it is a leap year.\n",
    "This means that in the Gregorian calendar, the years 2000 and 2400 are leap years, while 1800, 1900, 2100, 2200, 2300 and 2500 are NOT leap years. Source\n",
    "Task\n",
    "Given a year, determine whether it is a leap year. If it is a leap year, return the Boolean True, otherwise return False.\n",
    "Note that the code stub provided reads from STDIN and passes arguments to the is_leap function. It is only necessary to complete the is_leap\n",
    "function."
   ]
  },
  {
   "cell_type": "code",
   "execution_count": 11,
   "id": "9482d6f4-f8ae-4982-801e-3b4dc652e18e",
   "metadata": {},
   "outputs": [
    {
     "name": "stdin",
     "output_type": "stream",
     "text": [
      " 1990\n"
     ]
    },
    {
     "name": "stdout",
     "output_type": "stream",
     "text": [
      "False\n"
     ]
    }
   ],
   "source": [
    "def is_leap(year):\n",
    "    leap = False\n",
    "    \n",
    "    if year % 4 == 0:\n",
    "        if year % 100 == 0:\n",
    "            if year % 400 == 0:\n",
    "                return True\n",
    "            else:\n",
    "                return False\n",
    "        else:\n",
    "            return True\n",
    "    else:\n",
    "        return False\n",
    "    \n",
    "    return leap\n",
    "\n",
    "year = int(input())\n",
    "print(is_leap(year))"
   ]
  },
  {
   "cell_type": "markdown",
   "id": "84999346-8390-4ac6-a883-a15cfc04cff7",
   "metadata": {},
   "source": [
    "﻿###The included code stub will read an integer, n, from STDIN. Without using any string methods, try to print the following: 123...n\n",
    "Note that \"...\" represents the consecutive values in between.\n",
    "Example\n",
    "n = 5\n",
    "Print the string 12345."
   ]
  },
  {
   "cell_type": "code",
   "execution_count": 18,
   "id": "c822b50d-9591-485d-b782-1d3c23eb9480",
   "metadata": {},
   "outputs": [
    {
     "name": "stdin",
     "output_type": "stream",
     "text": [
      " 3\n"
     ]
    },
    {
     "name": "stdout",
     "output_type": "stream",
     "text": [
      "123"
     ]
    }
   ],
   "source": [
    "n = int(input().strip())\n",
    "for i in range(1, n + 1):\n",
    "    print(i, end='')"
   ]
  },
  {
   "cell_type": "markdown",
   "id": "09d9a065-b718-44ef-891c-dec0eaa42b72",
   "metadata": {},
   "source": [
    "﻿###Given the participants' score sheet for your University Sports Day, you are\n",
    "required to find the runner-up score. You are given n scores. Store them in a list and find the score of the runner-up.\n",
    "Input Format\n",
    "The first line contains n. The second line contains an array A[] of n integers each separated by a space."
   ]
  },
  {
   "cell_type": "code",
   "execution_count": 21,
   "id": "7b5567d4-11b9-4672-86c5-75c18c6348b2",
   "metadata": {},
   "outputs": [
    {
     "name": "stdin",
     "output_type": "stream",
     "text": [
      " 5\n",
      " 2 3 6 6 5\n"
     ]
    },
    {
     "name": "stdout",
     "output_type": "stream",
     "text": [
      "5\n"
     ]
    }
   ],
   "source": [
    "n = int(input())\n",
    "\n",
    "# Read the scores and convert them to a list of integers\n",
    "scores = list(map(int, input().split()))\n",
    "\n",
    "# Remove duplicates by converting the list to a set, then back to a list\n",
    "unique_scores = list(set(scores))\n",
    "\n",
    "# Sort the unique scores in descending order\n",
    "unique_scores.sort(reverse=True)\n",
    "\n",
    "# The runner-up score will be the second item in this sorted list\n",
    "if len(unique_scores) > 1:\n",
    "    print(unique_scores[1])\n",
    "else:\n",
    "    print(\"No runner-up score found\")"
   ]
  },
  {
   "cell_type": "markdown",
   "id": "3d78ce8c-909d-47a6-b466-c2dfe2f24328",
   "metadata": {},
   "source": [
    "###List Comprehension"
   ]
  },
  {
   "cell_type": "code",
   "execution_count": 1,
   "id": "21fe0597-fb1f-4f41-abaa-354721ba2793",
   "metadata": {},
   "outputs": [
    {
     "name": "stdin",
     "output_type": "stream",
     "text": [
      " 2\n",
      " 2\n",
      " 2\n",
      " 2\n"
     ]
    },
    {
     "name": "stdout",
     "output_type": "stream",
     "text": [
      "[[0, 0, 0], [0, 0, 1], [0, 1, 0], [0, 1, 2], [0, 2, 1], [0, 2, 2], [1, 0, 0], [1, 0, 2], [1, 1, 1], [1, 1, 2], [1, 2, 0], [1, 2, 1], [1, 2, 2], [2, 0, 1], [2, 0, 2], [2, 1, 0], [2, 1, 1], [2, 1, 2], [2, 2, 0], [2, 2, 1], [2, 2, 2]]\n"
     ]
    }
   ],
   "source": [
    "x =int(input().strip())\n",
    "y =int(input().strip())\n",
    "z =int(input().strip())\n",
    "n =int(input().strip())\n",
    "output = [[i, j, k] for i in range(x + 1) for j in range(y + 1) for k in range(z + 1) if i + j + k != n]\n",
    "print(output)"
   ]
  },
  {
   "cell_type": "code",
   "execution_count": null,
   "id": "f6066cd8-9bbc-4004-8240-c161c0f16433",
   "metadata": {},
   "outputs": [],
   "source": []
  }
 ],
 "metadata": {
  "kernelspec": {
   "display_name": "Python 3 (ipykernel)",
   "language": "python",
   "name": "python3"
  },
  "language_info": {
   "codemirror_mode": {
    "name": "ipython",
    "version": 3
   },
   "file_extension": ".py",
   "mimetype": "text/x-python",
   "name": "python",
   "nbconvert_exporter": "python",
   "pygments_lexer": "ipython3",
   "version": "3.11.7"
  }
 },
 "nbformat": 4,
 "nbformat_minor": 5
}
